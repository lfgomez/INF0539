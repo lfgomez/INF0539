{
 "cells": [
  {
   "cell_type": "markdown",
   "metadata": {
    "id": "-teIMJ_OcdN1"
   },
   "source": [
    "# Laboratório 01 de IoT com Yolo e InfluxDB - Guia para a aula experimental"
   ]
  },
  {
   "cell_type": "markdown",
   "metadata": {
    "id": "cVtBnIvVcdN2"
   },
   "source": [
    "Vamos iniciar nosso notebook instalando e posteriormente chamando todas as bibliotecas que usaremos. Nessa etapa, nada precisa ser modificado."
   ]
  },
  {
   "cell_type": "code",
   "execution_count": null,
   "metadata": {
    "id": "enJ-d_yldamV"
   },
   "outputs": [],
   "source": [
    "!pip install arrow influxdb_client"
   ]
  },
  {
   "cell_type": "code",
   "execution_count": null,
   "metadata": {
    "id": "M2-p7dSicdN3"
   },
   "outputs": [],
   "source": [
    "import numpy as np\n",
    "import pandas as pd\n",
    "import arrow\n",
    "import requests\n",
    "import re\n",
    "import influxdb_client, os, time\n",
    "from influxdb_client import InfluxDBClient, Point, WritePrecision\n",
    "from influxdb_client.client.write_api import SYNCHRONOUS\n",
    "import matplotlib.pyplot as plt"
   ]
  },
  {
   "cell_type": "markdown",
   "metadata": {
    "id": "iAL7W47KcdN3"
   },
   "source": [
    "O próximo passo é definir os endereços que serão usados para consultar e enviar os dados, o token de acesso, a organização e o bucket com os dados."
   ]
  },
  {
   "cell_type": "code",
   "execution_count": null,
   "metadata": {
    "id": "DH9NdzYNcdN3"
   },
   "outputs": [],
   "source": [
    "token = ''\n",
    "user = ''\n",
    "url = ''\n",
    "bucket = ''"
   ]
  },
  {
   "cell_type": "markdown",
   "metadata": {
    "id": "zSmFjdEFstPM"
   },
   "source": [
    "Vamos agora conectar com o banco de dados, usando as np.infomções definidas anteriormente."
   ]
  },
  {
   "cell_type": "code",
   "execution_count": null,
   "metadata": {
    "id": "trp36K4CsiHf"
   },
   "outputs": [],
   "source": [
    "db_client = influxdb_client.InfluxDBClient(url=url, token=token, org=user)"
   ]
  },
  {
   "cell_type": "markdown",
   "metadata": {
    "id": "CQgesjKFcdN4"
   },
   "source": [
    "## Vamos baixar os dados e ver como eles se comportam\n",
    "Para iniciar esse trabalho, vamos primeiro escrever uma função que nos permita baixar os dados dos útimos \"d\" dias, do bucket que definimos anteriormete."
   ]
  },
  {
   "cell_type": "code",
   "execution_count": null,
   "metadata": {
    "id": "Ai5Z7PIicdN4"
   },
   "outputs": [],
   "source": [
    "def get_data(days):\n",
    "    query_api = db_client.query_api()\n",
    "    stop = arrow.now().to('UTC').isoformat()[:-13]+'Z'\n",
    "    start = arrow.now().shift(days=-1*days).to('UTC').isoformat()[:-13]+'Z'\n",
    "    query = \"\"\"from(bucket: \\\"\"\"\"+bucket+\"\"\"\\\")\n",
    "    |> range(start: \"\"\"+start+\"\"\", stop: \"\"\"+stop+\"\"\")\n",
    "    |> pivot(rowKey:[\"_time\"], columnKey: [\"_field\"], valueColumn: \"_value\")\n",
    "    |> keep(columns: [\"_time\", \"_measurement\",\"quantidade\", \"model\"])\"\"\"\n",
    "    df = query_api.query_data_frame(query, org=user)\n",
    "    return df"
   ]
  },
  {
   "cell_type": "code",
   "execution_count": null,
   "metadata": {},
   "outputs": [],
   "source": []
  },
  {
   "cell_type": "markdown",
   "metadata": {
    "id": "_X5xfUpEcdN4"
   },
   "source": [
    "Agora vamos usar a funçar que definimos acima e baixar o último dia de dados. Vamos aproveitar para deixar o timestamp no horário do Brasil e organizar o Dataframe pelo tempo."
   ]
  },
  {
   "cell_type": "code",
   "execution_count": null,
   "metadata": {
    "id": "iusd96g7cdN4"
   },
   "outputs": [],
   "source": [
    "df = get_data(1)\n",
    "df['_time'] = df['_time'].dt.tz_convert('America/Sao_Paulo')\n",
    "df.index = pd.to_datetime(df['_time'])\n",
    "df = df.drop(columns=['_time'])"
   ]
  },
  {
   "cell_type": "markdown",
   "metadata": {
    "id": "WcDWNjPtcdN5"
   },
   "source": [
    "Caso tudo tenha funcionado como esperado, você deve estar vendo seus dados na sequência, já no formato tabular do Pandas."
   ]
  },
  {
   "cell_type": "code",
   "execution_count": null,
   "metadata": {
    "id": "sX37iKpKnT8X"
   },
   "outputs": [],
   "source": [
    "df"
   ]
  },
  {
   "cell_type": "markdown",
   "metadata": {},
   "source": [
    "Por último vamos Fazer o gráfico da quantidade de pessoas detectadas ao longo do tempo"
   ]
  },
  {
   "cell_type": "code",
   "execution_count": null,
   "metadata": {},
   "outputs": [],
   "source": [
    "plt.figure(figsize=(15,4))\n",
    "for model in df['model'].unique():\n",
    "    model_data = df[df['model'] == model]\n",
    "    plt.plot(model_data.index, model_data['quantidade'], label=model)\n",
    "plt.xticks(rotation=45);\n",
    "plt.title(\"Serie temporal de cada modelo\")\n",
    "plt.xlabel(\"Tempo\")\n",
    "plt.ylabel(\"Quantidade\")\n",
    "plt.legend(title=\"Modelos\")\n",
    "plt.grid(True)"
   ]
  },
  {
   "cell_type": "code",
   "execution_count": null,
   "metadata": {
    "id": "6dVeywsscdN5"
   },
   "outputs": [],
   "source": []
  }
 ],
 "metadata": {
  "colab": {
   "provenance": []
  },
  "kernelspec": {
   "display_name": "Python 3 (ipykernel)",
   "language": "python",
   "name": "python3"
  },
  "language_info": {
   "codemirror_mode": {
    "name": "ipython",
    "version": 3
   },
   "file_extension": ".py",
   "mimetype": "text/x-python",
   "name": "python",
   "nbconvert_exporter": "python",
   "pygments_lexer": "ipython3",
   "version": "3.11.2"
  }
 },
 "nbformat": 4,
 "nbformat_minor": 4
}
