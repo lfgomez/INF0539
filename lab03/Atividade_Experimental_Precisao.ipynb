{
 "cells": [
  {
   "cell_type": "markdown",
   "metadata": {
    "id": "rkDzoQaNOmZn"
   },
   "source": [
    "# Laboratório 03 - Precisão - Guia para a aula experimental\n",
    "\n",
    "\n",
    "Nesse laboratório vamos caluclar a precisão de um sistema simples, baseado no ESP8266 e um termistor. Caso deseje trabalhar com o kit disponibilizado para vocês fora do laboratório, será necessário baixar a Arduino IDE e adicionar o suporte a placa de desenvolvimento **NodeMCU**. Um guia de instalação da placa pode ser visto na referência https://www.filipeflop.com/blog/programar-nodemcu-com-ide-arduino/"
   ]
  },
  {
   "cell_type": "markdown",
   "metadata": {
    "id": "KEZzyY8nOmZp"
   },
   "source": [
    "Vamos iniciar nosso notebook chamando todas as bibliotecas que usaremos. Nessa etapa, basta rodar a célula abaixo com o comando **Shift + Enter**"
   ]
  },
  {
   "cell_type": "code",
   "execution_count": null,
   "metadata": {
    "id": "ks9Pzmd9OmZq"
   },
   "outputs": [],
   "source": [
    "#Caso você rode o notebook no Google Colab, é necessário primeiro instalar a biblioteca arrow e influxdb_client:\n",
    "!pip install arrow influxdb_client\n",
    "\n",
    "import numpy as np\n",
    "import pandas as pd\n",
    "import arrow\n",
    "import requests\n",
    "import re\n",
    "import influxdb_client, os, time\n",
    "from influxdb_client import InfluxDBClient, Point, WritePrecision\n",
    "from influxdb_client.client.write_api import SYNCHRONOUS\n",
    "import matplotlib.pyplot as plt"
   ]
  },
  {
   "cell_type": "markdown",
   "metadata": {
    "id": "Gj0cAs_-OmZr"
   },
   "source": [
    "O próximo passo é definir os endereços que serão usados para consultar e enviar os dados, o token de acesso, a organização e o bucket com os dados"
   ]
  },
  {
   "cell_type": "code",
   "execution_count": null,
   "metadata": {
    "id": "siqrPmkSOmZr"
   },
   "outputs": [],
   "source": [
    "token = ''\n",
    "user = ''\n",
    "url = 'http://64.227.106.209:8086'\n",
    "bucket = ''"
   ]
  },
  {
   "cell_type": "markdown",
   "metadata": {
    "id": "Q9LbEeOCOmZs"
   },
   "source": [
    "Vamos agora conectar com o banco de dados, usando as infomções definidas anteriormente."
   ]
  },
  {
   "cell_type": "code",
   "execution_count": null,
   "metadata": {
    "id": "U7VezieYOmZs"
   },
   "outputs": [],
   "source": [
    "username = ''\n",
    "db_client = influxdb_client.InfluxDBClient(url=url, token=token, org=user)"
   ]
  },
  {
   "cell_type": "markdown",
   "metadata": {
    "id": "Y1OlGUINOmZt"
   },
   "source": [
    "## Usando o Kit de Hardware\n",
    "Esse é o momento de você baixar o código dos dispositivos disponível no GitHub: https://github.com/lfgomez/INF0539/lab03/tree/main/ Você deve baixar o código **termistor**. Depois de baixar o código, abra o código do Termometro na Arduino IDE e mude os parâmetros de rede Wifi, canal de publicação (minha sugestão é usar *temperatura*) credenciais do dispositivo.\n",
    "\n",
    "![term](https://raw.githubusercontent.com/KonkerLabs/arduino_examples/master/Termometro_MQTT/term.jpg \"Termômetro\")\n",
    "\n",
    "Com o dispositivo montado, o próximo passo é compilar e gravar o Firmware. Lembre-se de mudar a board na Arduino IDE para **NodeMCU v1.0**."
   ]
  },
  {
   "cell_type": "markdown",
   "metadata": {
    "id": "ejjIsDJOOmZt"
   },
   "source": [
    "## Vamos baixar os dados e ver como eles se comportam\n",
    "Para iniciar esse trabalho, vamos primeiro escrever uma função que nos permita baixar os dados dos útimos \"d\" dias, do bucket que definimos anteriormete."
   ]
  },
  {
   "cell_type": "code",
   "execution_count": null,
   "metadata": {
    "id": "b-T-nd8COmZt"
   },
   "outputs": [],
   "source": [
    "def get_data(hours):\n",
    "    query_api = db_client.query_api()\n",
    "    stop = arrow.now().to('UTC').isoformat()[:-13]+'Z'\n",
    "    start = arrow.now().shift(hours=-1*hours).to('UTC').isoformat()[:-13]+'Z'\n",
    "    query = \"\"\"from(bucket: \\\"\"\"\"+bucket+\"\"\"\\\")\n",
    "    |> range(start: \"\"\"+start+\"\"\", stop: \"\"\"+stop+\"\"\")\n",
    "    |> pivot(rowKey:[\"_time\"], columnKey: [\"_field\"], valueColumn: \"_value\")\n",
    "    |> keep(columns: [\"_time\", \"_measurement\",\"temperatura\", \"grupo\"])\"\"\"\n",
    "    df = query_api.query_data_frame(query, org=user)\n",
    "    return df"
   ]
  },
  {
   "cell_type": "markdown",
   "metadata": {
    "id": "tpGeN95aOmZt"
   },
   "source": [
    "**Agora é a hora de você tomar um café :-)**\n",
    "\n",
    "Cheque primeiramente se os dados estão chegando no InfluxDB. Caso afirmativo, deixe o dispositivo rodando sem intervenção por uns 60 minutos. Esse tempo é necessário para estabilizar a temperatura do termistor, que, por estar na placa, vai se aquecer com o uso do microcontrolador.\n",
    "\n",
    "Após aguardar esse tempo, vamos usar a API para pegar os dados enviados pelo dispositivo **termometro** na última hora. Caso você tenha escolhido outro canal para envio dos dados, por favor, modifique a variável **canal** na próxima célula."
   ]
  },
  {
   "cell_type": "markdown",
   "metadata": {},
   "source": [
    "Agora vamos usar a função que definimos acima e baixar a última hora de dados. Vamos aproveitar para deixar o timestamp no horário do Brasil e organizar o Dataframe pelo tempo."
   ]
  },
  {
   "cell_type": "code",
   "execution_count": null,
   "metadata": {
    "id": "o63bjkHyOmZt"
   },
   "outputs": [],
   "source": [
    "df = get_data(1)\n",
    "df['_time'] = df['_time'].dt.tz_convert('America/Sao_Paulo')\n",
    "df.index = pd.to_datetime(df['_time'])\n",
    "df = df.drop(columns=['_time'])"
   ]
  },
  {
   "cell_type": "markdown",
   "metadata": {
    "id": "wJFcw8ETOmZu"
   },
   "source": [
    "Caso tudo tenha funcionado como esperado, você deve estar vendo seus dados na sequência, já no formato tabular do Pandas."
   ]
  },
  {
   "cell_type": "code",
   "execution_count": null,
   "metadata": {
    "id": "zKWck6HWOmZu"
   },
   "outputs": [],
   "source": [
    "df"
   ]
  },
  {
   "cell_type": "markdown",
   "metadata": {
    "id": "iO57nw3jOmZu"
   },
   "source": [
    "Ótimo! Agora os dados estão em um formato mais fácil de ler. Mas podemos também fazer um gráfico bem simples!"
   ]
  },
  {
   "cell_type": "code",
   "execution_count": null,
   "metadata": {
    "id": "IMVytfxJOmZu"
   },
   "outputs": [],
   "source": [
    "%matplotlib inline\n",
    "import matplotlib.pyplot as plt\n",
    "plt.figure(figsize=(15,8))\n",
    "plt.rcParams.update({'font.size': 18})\n",
    "df['temperatura'].plot()\n",
    "plt.xticks(rotation=45)\n",
    "plt.title('Gráfico da temperatura obtida com o termistor', size=24,y=1.02)\n",
    "plt.ylabel('Temperatura [C]', size=24)\n",
    "plt.xlabel('Data', size=24)\n",
    "plt.grid(True)\n",
    "plt.show()"
   ]
  },
  {
   "cell_type": "markdown",
   "metadata": {
    "id": "KTq8y4zpOmZu"
   },
   "source": [
    "Neste momento, começa a parte final desse trabalho. Vamos gerar um histograma com os valores obtidos:"
   ]
  },
  {
   "cell_type": "code",
   "execution_count": null,
   "metadata": {
    "id": "0tGNZx9tOmZu"
   },
   "outputs": [],
   "source": [
    "minimo = np.min(df['temperatura'])\n",
    "maximo = np.max(df['temperatura'])\n",
    "bins=np.arange(minimo-0.5,maximo+1,0.5)\n",
    "hist, bin_edges = np.histogram(df['temperatura'],bins=bins)\n",
    "x = (bin_edges[:-1]+bin_edges[1:])/2"
   ]
  },
  {
   "cell_type": "markdown",
   "metadata": {
    "id": "MdcjKTIYOmZu"
   },
   "source": [
    "Vamos visualizar o histograma calculado com os dados:"
   ]
  },
  {
   "cell_type": "code",
   "execution_count": null,
   "metadata": {
    "id": "Skk1DXOuOmZv"
   },
   "outputs": [],
   "source": [
    "plt.figure(figsize=(15,8))\n",
    "plt.step(x,hist,where='mid')\n",
    "plt.title('Histograma da temperatura obtida com o termistor', size=24,y=1.02)\n",
    "plt.ylabel('Número de contagens', size=24)\n",
    "plt.xlabel('Temperatura [C]', size=24)\n",
    "plt.grid(True)\n",
    "plt.show()"
   ]
  },
  {
   "cell_type": "markdown",
   "metadata": {
    "id": "AYl0Mqx-OmZv"
   },
   "source": [
    "Vamos tentar agora fazer um ajuste gaussiano nos dados:"
   ]
  },
  {
   "cell_type": "code",
   "execution_count": null,
   "metadata": {
    "id": "u06-5TISOmZv"
   },
   "outputs": [],
   "source": [
    "from scipy.optimize import curve_fit\n",
    "\n",
    "#Definindo a função que usaremos para o ajuste\n",
    "def gaus(x,a,x0,sigma):\n",
    "    return a*np.exp(-(x-x0)**2/(2*sigma**2))"
   ]
  },
  {
   "cell_type": "code",
   "execution_count": null,
   "metadata": {
    "id": "ZdiEFOTMOmZv"
   },
   "outputs": [],
   "source": [
    "popt,pcov = curve_fit(gaus,x,hist,p0=[1,(minimo+maximo)/2,(maximo-minimo)])"
   ]
  },
  {
   "cell_type": "code",
   "execution_count": null,
   "metadata": {
    "id": "CP8SVWchOmZv"
   },
   "outputs": [],
   "source": [
    "plt.figure(figsize=(15,8))\n",
    "plt.step(x,hist,where='mid', label='Dados')\n",
    "plt.plot(np.arange(minimo-0.5,maximo+0.5,0.01), gaus(np.arange(minimo-0.5,maximo+0.5,0.01), *popt), 'r-', label='Ajuste')\n",
    "plt.title('Histograma da temperatura obtida com o termistor', size=24,y=1.02)\n",
    "plt.ylabel('Número de contagens', size=24)\n",
    "plt.xlabel('Temperatura [C]', size=24)\n",
    "plt.grid(True)\n",
    "plt.legend()\n",
    "plt.show()"
   ]
  },
  {
   "cell_type": "markdown",
   "metadata": {
    "id": "ng8h4adROmZv"
   },
   "source": [
    "A partir do ajuste gaussiano, podemos obter o desvio padrão dos dados. Observe que esse número é influenciado não apenas pela precisão intrínseca do sensor, mas também pela escolha do \"passo\" (**bin**) escolhido para o histograma."
   ]
  },
  {
   "cell_type": "code",
   "execution_count": null,
   "metadata": {
    "id": "jHpkTXdVOmZv"
   },
   "outputs": [],
   "source": [
    "print('Valor do desvio padrão obtido via ajuste Gaussiano: ' + str((popt[2]**2)**0.5))"
   ]
  },
  {
   "cell_type": "markdown",
   "metadata": {
    "id": "MmOg4jdKOmZv"
   },
   "source": [
    "Usando esse valor, podemos dizer que, dentro de um nível de confiança de **3 sigmas, ou seja, aproximadamente 99%**, esse sensor tem a seguinte precisão:"
   ]
  },
  {
   "cell_type": "code",
   "execution_count": null,
   "metadata": {
    "id": "MHBdlWVCOmZv"
   },
   "outputs": [],
   "source": [
    "precision = round((3*(popt[2]**2)**0.5),1)\n",
    "print('Precisão (nível de confiança de 3 sigma): ' + str(precision) + ' C')"
   ]
  },
  {
   "cell_type": "markdown",
   "metadata": {
    "id": "_zFn7qs9OmZv"
   },
   "source": [
    "Observe também que é possível obter o desvio padrão sem o uso de um histograma, tornando o resultado independente da escolha de \"passo\". Usando o resultado direto do desvio padrão, deve-se obter uma precisão um pouco melhor (embora não muito diferente) da observada na célula acima:"
   ]
  },
  {
   "cell_type": "code",
   "execution_count": null,
   "metadata": {
    "id": "KTR6vd-tOmZv"
   },
   "outputs": [],
   "source": [
    "precision = round(3*(np.std(stats_df['payload.value'])),1)\n",
    "print('Precisão (nível de confiança de 3 sigma): ' + str(precision) + ' C')"
   ]
  },
  {
   "cell_type": "code",
   "execution_count": null,
   "metadata": {
    "id": "x5GB-Eg8OmZv"
   },
   "outputs": [],
   "source": []
  }
 ],
 "metadata": {
  "colab": {
   "provenance": []
  },
  "kernelspec": {
   "display_name": "Python 3 (ipykernel)",
   "language": "python",
   "name": "python3"
  },
  "language_info": {
   "codemirror_mode": {
    "name": "ipython",
    "version": 3
   },
   "file_extension": ".py",
   "mimetype": "text/x-python",
   "name": "python",
   "nbconvert_exporter": "python",
   "pygments_lexer": "ipython3",
   "version": "3.11.2"
  }
 },
 "nbformat": 4,
 "nbformat_minor": 4
}
